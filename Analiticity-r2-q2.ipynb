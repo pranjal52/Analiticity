{
 "cells": [
  {
   "cell_type": "code",
   "execution_count": 2,
   "metadata": {
    "collapsed": false,
    "scrolled": false
   },
   "outputs": [
    {
     "name": "stderr",
     "output_type": "stream",
     "text": [
      "C:\\Users\\hi\\Anaconda3\\lib\\site-packages\\sklearn\\utils\\validation.py:420: DataConversionWarning: Data with input dtype int64 was converted to float64 by MinMaxScaler.\n",
      "  warnings.warn(msg, DataConversionWarning)\n",
      "C:\\Users\\hi\\Anaconda3\\lib\\site-packages\\sklearn\\utils\\validation.py:420: DataConversionWarning: Data with input dtype int64 was converted to float64 by MinMaxScaler.\n",
      "  warnings.warn(msg, DataConversionWarning)\n"
     ]
    }
   ],
   "source": [
    "import pandas as pd\n",
    "import numpy as np\n",
    "import matplotlib.pyplot as plt\n",
    "import sklearn\n",
    "\n",
    "df=pd.read_excel(\"C:\\\\Users\\\\hi\\\\Desktop\\\\Analiticity\\\\Round 2\\\\training_Hunt4Gold.xlsx\")\n",
    "#df['Date']=pd.to_datetime(df['Date'])\n",
    "#df['Time']=pd.to_datetime(df['Time'])\n",
    "#df['Time1'] = df['Time'].astype(str).str[0:2].astype(int)\n",
    "#df['Time1']\n",
    "\n",
    "#set(df['lead'].values)\n",
    "#df['lead1']=df['lead'] - 63\n",
    "\n",
    "from sklearn import preprocessing\n",
    "min_max_scaler = preprocessing.MinMaxScaler(feature_range=(0,1))\n",
    "np_scaled = min_max_scaler.fit_transform(df['magnetite(black cubes)'].reshape(-1,1))\n",
    "df['magnetite(black cubes)'] = pd.DataFrame(np_scaled)\n",
    "np_scaled = min_max_scaler.fit_transform(df['ferric minerals'].reshape(-1,1))\n",
    "df['ferric minerals'] = pd.DataFrame(np_scaled)\n",
    "#np_scaled = min_max_scaler.fit_transform(df['mica'].reshape(-1,1))\n",
    "#df['mica'] = pd.DataFrame(np_scaled)\n",
    "df['lead']=np.log(df['lead'])\n",
    "\n",
    "#df['mica']=(df['mica'] - df['mica'].mean())/df['mica'].std()\n",
    "#list1=df['mica']\n",
    "#df['mica']=list1\n",
    "#plt.hist(np.log1p(list1), bins=1000)\n",
    "#plt.xlim(0,1)\n",
    "\n",
    "#mi=df[df['mica'] > 1]\n",
    "#mi_max=mi.max()\n",
    "#mi_min=mi.min()\n",
    "#df[df['mica'] >1]=1+(df[df['mica'] >1]-1)/mi.std()\n",
    "#plt.show()\n",
    "#df['mica'].min()\n",
    "#df[df['mica'] >1]"
   ]
  },
  {
   "cell_type": "code",
   "execution_count": 3,
   "metadata": {
    "collapsed": false
   },
   "outputs": [
    {
     "data": {
      "text/plain": [
       "18.563162186913129"
      ]
     },
     "execution_count": 3,
     "metadata": {},
     "output_type": "execute_result"
    }
   ],
   "source": [
    "\n",
    "keys=['CuFeS', 'ferric minerals', 'magnesium', 'silica',\n",
    "       'sulphides minerals', 'lead', 'magnetite(black cubes)']\n",
    "from sklearn.cross_validation import train_test_split\n",
    "X_train, X_test, y_train, y_test = train_test_split(df[keys], df['Gold mine'], test_size=0.2, random_state=1000)\n",
    "\n",
    "from sklearn import linear_model\n",
    "regr = linear_model.LinearRegression()\n",
    "regr.fit(X_train, y_train)\n",
    "rmse=np.sqrt(np.sum((regr.predict(X_test) - y_test)**2))\n",
    "rmse\n",
    "\n",
    "#list1=df['F12']\n",
    "\n",
    "#plt.hist(list1, bins=500)\n",
    "#plt.xlim(0,1)\n",
    "\n",
    "\n",
    "#plt.show()\n",
    "\n",
    "#df.corr()['Gold mine']\n",
    "\n",
    "\n",
    "\n",
    "\n",
    "\n",
    "\n",
    "\n",
    "\n"
   ]
  },
  {
   "cell_type": "code",
   "execution_count": 4,
   "metadata": {
    "collapsed": false
   },
   "outputs": [
    {
     "data": {
      "text/plain": [
       "0       0\n",
       "1       0\n",
       "2       0\n",
       "3       0\n",
       "4       0\n",
       "5       0\n",
       "6       0\n",
       "7       0\n",
       "8       0\n",
       "9       0\n",
       "10      0\n",
       "11      0\n",
       "12      0\n",
       "13      0\n",
       "14      0\n",
       "15      0\n",
       "16      0\n",
       "17      0\n",
       "18      0\n",
       "19      0\n",
       "20      0\n",
       "21      0\n",
       "22      0\n",
       "23      0\n",
       "24      0\n",
       "25      0\n",
       "26      0\n",
       "27      0\n",
       "28      0\n",
       "29      0\n",
       "       ..\n",
       "5470    0\n",
       "5471    0\n",
       "5472    0\n",
       "5473    0\n",
       "5474    0\n",
       "5475    0\n",
       "5476    0\n",
       "5477    0\n",
       "5478    0\n",
       "5479    0\n",
       "5480    0\n",
       "5481    0\n",
       "5482    0\n",
       "5483    0\n",
       "5484    0\n",
       "5485    0\n",
       "5486    0\n",
       "5487    0\n",
       "5488    0\n",
       "5489    0\n",
       "5490    0\n",
       "5491    0\n",
       "5492    0\n",
       "5493    0\n",
       "5494    0\n",
       "5495    0\n",
       "5496    0\n",
       "5497    0\n",
       "5498    0\n",
       "5499    0\n",
       "Name: Gold mine, dtype: int32"
      ]
     },
     "execution_count": 4,
     "metadata": {},
     "output_type": "execute_result"
    }
   ],
   "source": [
    "\n",
    "df_t=pd.read_excel(\"C:\\\\Users\\\\hi\\\\Desktop\\\\Analiticity\\\\Round 2\\\\test_Hunt4Gold.xlsx\")\n",
    "#rmse_t=np.sqrt(np.sum((regr.predict(df_t.drop('Sr. no', axis=1)) - df_t)**2))\n",
    "#rmse\n",
    "df_t['Gold mine']=regr.predict(df_t.drop(['Sr.No', 'mica'], axis=1))\n",
    "#\n",
    "#df_t.round(decimals=1)\n",
    "#set(df_t['mica'])\n",
    "df_t[df_t['Gold mine'] >0.14]=1\n",
    "df_t[df_t['Gold mine'] <0.14]=0\n",
    "df_n=df_t['Gold mine']\n",
    "df_n=df_n.astype(int)\n",
    "df_n.to_csv('out_two.csv', index=False)\n",
    "df_n\n"
   ]
  },
  {
   "cell_type": "code",
   "execution_count": null,
   "metadata": {
    "collapsed": true
   },
   "outputs": [],
   "source": []
  }
 ],
 "metadata": {
  "anaconda-cloud": {},
  "kernelspec": {
   "display_name": "Python [conda root]",
   "language": "python",
   "name": "conda-root-py"
  },
  "language_info": {
   "codemirror_mode": {
    "name": "ipython",
    "version": 3
   },
   "file_extension": ".py",
   "mimetype": "text/x-python",
   "name": "python",
   "nbconvert_exporter": "python",
   "pygments_lexer": "ipython3",
   "version": "3.5.2"
  }
 },
 "nbformat": 4,
 "nbformat_minor": 1
}
