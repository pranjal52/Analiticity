{
 "cells": [
  {
   "cell_type": "code",
   "execution_count": null,
   "metadata": {
    "collapsed": true
   },
   "outputs": [],
   "source": [
    "'''Gold has been a great commodity for a very long time. It has been used in general exchange as a currency, minted into coins, or simply traded by weighted nuggets. It all depends on what time period a person happened to find themselves. The basis for its precious nature is found in nature itself. Gold is a fairly difficult but not impossible resource to find. That allows it to have value.\n",
    "\n",
    "When you are hunting for gold,rocks and minerals are one of the most important things you can look at to find gold location clues.Out of the billions of combination of rock and mineral types,there are only a handful of gold deposit minerals that you really need to keep an eye out for.\n",
    "\n",
    "So here is a task for you.You have to predict whether or not gold mines will be present in a region on the basis of amount of different minerals and rocks found in and around that region. The training data attached here gives the amount of those minerals at various sites and presence(1)/absence(0) of gold mines at that place. The Test data contains information about all those attributes except the actual presence of gold mine,which you have to predict and submit it as output.\n",
    "\n",
    "The Training and Test data can be downloaded from https://drive.google.com/drive/folders/0B5ecohWfA0rueFZwUF9qbURXQU0\n",
    "\n",
    "Input Format\n",
    "\n",
    "Sr no.\n",
    "Column 'B' to 'I' - concentration of different minerals and ores on a realtive scale, on which 1 means highest concentration.0 corresponds to complete absence of mineral/ore\n",
    "Gold mine - whether or not gold mine is present at that location. 0 - absent 1 - present\n",
    "\n",
    "Output Format\n",
    "\n",
    "Submit the predicted value of gold mines location sorted by serial number. If 0,0,1 are the values corresponding to the serial number 1,2,3. Output is \n",
    "0 \n",
    "0\n",
    "1 \n",
    "'''"
   ]
  },
  {
   "cell_type": "code",
   "execution_count": 3,
   "metadata": {
    "collapsed": false,
    "scrolled": false
   },
   "outputs": [
    {
     "name": "stderr",
     "output_type": "stream",
     "text": [
      "C:\\Users\\hi\\Anaconda3\\lib\\site-packages\\sklearn\\utils\\validation.py:420: DataConversionWarning: Data with input dtype int64 was converted to float64 by MinMaxScaler.\n",
      "  warnings.warn(msg, DataConversionWarning)\n",
      "C:\\Users\\hi\\Anaconda3\\lib\\site-packages\\sklearn\\utils\\validation.py:420: DataConversionWarning: Data with input dtype int64 was converted to float64 by MinMaxScaler.\n",
      "  warnings.warn(msg, DataConversionWarning)\n"
     ]
    }
   ],
   "source": [
    "import pandas as pd\n",
    "import numpy as np\n",
    "import matplotlib.pyplot as plt\n",
    "import sklearn\n",
    "\n",
    "df=pd.read_excel(\"C:\\\\Users\\\\hi\\\\Desktop\\\\Analiticity\\\\Round 2\\\\training_Hunt4Gold.xlsx\")\n",
    "\n",
    "\n",
    "from sklearn import preprocessing\n",
    "min_max_scaler = preprocessing.MinMaxScaler(feature_range=(0,1))\n",
    "np_scaled = min_max_scaler.fit_transform(df['magnetite(black cubes)'].reshape(-1,1))\n",
    "df['magnetite(black cubes)'] = pd.DataFrame(np_scaled)\n",
    "np_scaled = min_max_scaler.fit_transform(df['ferric minerals'].reshape(-1,1))\n",
    "df['ferric minerals'] = pd.DataFrame(np_scaled)\n",
    "#np_scaled = min_max_scaler.fit_transform(df['mica'].reshape(-1,1))\n",
    "#df['mica'] = pd.DataFrame(np_scaled)\n",
    "df['lead']=np.log(df['lead'])\n",
    "\n"
   ]
  },
  {
   "cell_type": "code",
   "execution_count": 4,
   "metadata": {
    "collapsed": false
   },
   "outputs": [
    {
     "data": {
      "text/plain": [
       "18.563162186913129"
      ]
     },
     "execution_count": 4,
     "metadata": {},
     "output_type": "execute_result"
    }
   ],
   "source": [
    "\n",
    "keys=['CuFeS', 'ferric minerals', 'magnesium', 'silica',\n",
    "       'sulphides minerals', 'lead', 'magnetite(black cubes)']\n",
    "from sklearn.cross_validation import train_test_split\n",
    "X_train, X_test, y_train, y_test = train_test_split(df[keys], df['Gold mine'], test_size=0.2, random_state=1000)\n",
    "\n",
    "from sklearn import linear_model\n",
    "regr = linear_model.LinearRegression()\n",
    "regr.fit(X_train, y_train)\n",
    "rmse=np.sqrt(np.sum((regr.predict(X_test) - y_test)**2))\n",
    "rmse\n",
    "\n",
    "#list1=df['F12']\n",
    "\n",
    "#plt.hist(list1, bins=500)\n",
    "#plt.xlim(0,1)\n",
    "\n",
    "\n",
    "#plt.show()\n",
    "\n",
    "\n",
    "\n",
    "\n",
    "\n",
    "\n",
    "\n",
    "\n",
    "\n"
   ]
  },
  {
   "cell_type": "code",
   "execution_count": 5,
   "metadata": {
    "collapsed": false
   },
   "outputs": [],
   "source": [
    "\n",
    "df_t=pd.read_excel(\"C:\\\\Users\\\\hi\\\\Desktop\\\\Analiticity\\\\Round 2\\\\test_Hunt4Gold.xlsx\")\n",
    "#rmse_t=np.sqrt(np.sum((regr.predict(df_t.drop('Sr. no', axis=1)) - df_t)**2))\n",
    "#rmse\n",
    "df_t['Gold mine']=regr.predict(df_t.drop(['Sr.No', 'mica'], axis=1))\n",
    "#\n",
    "#df_t.round(decimals=1)\n",
    "#set(df_t['mica'])\n",
    "df_t[df_t['Gold mine'] >0.14]=1\n",
    "df_t[df_t['Gold mine'] <0.14]=0\n",
    "df_n=df_t['Gold mine']\n",
    "df_n=df_n.astype(int)\n",
    "df_n.to_csv('out_two.csv', index=False)\n"
   ]
  },
  {
   "cell_type": "code",
   "execution_count": null,
   "metadata": {
    "collapsed": true
   },
   "outputs": [],
   "source": []
  }
 ],
 "metadata": {
  "anaconda-cloud": {},
  "kernelspec": {
   "display_name": "Python [conda root]",
   "language": "python",
   "name": "conda-root-py"
  },
  "language_info": {
   "codemirror_mode": {
    "name": "ipython",
    "version": 3
   },
   "file_extension": ".py",
   "mimetype": "text/x-python",
   "name": "python",
   "nbconvert_exporter": "python",
   "pygments_lexer": "ipython3",
   "version": "3.5.2"
  }
 },
 "nbformat": 4,
 "nbformat_minor": 1
}
