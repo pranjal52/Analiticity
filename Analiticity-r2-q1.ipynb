{
 "cells": [
  {
   "cell_type": "code",
   "execution_count": null,
   "metadata": {
    "collapsed": true
   },
   "outputs": [],
   "source": [
    "'''In statistics,régression linéaire a.k.a linear regression is an approach for modeling the relationship between a scalar dependent variable y and one or more explanatory variables (or independent variables) denoted X.In linear regression, the relationships are modeled using linear predictor functions whose unknown model parameters are estimated from the data.\n",
    "\n",
    "Linear regression was the first type of regression to be used extensively in practical applications.This is because models which depend linearly on their unknown parameters are easier to fit than models which are non-linearly related to their parameters and because the statistical properties of the resulting estimators are easier to determine.\n",
    "\n",
    "Here Air Quality data of a particular location on a hourly basis for 1 year has been given. Build a linear regression model for this data with T(temperature) as the goal field and all other attributes as independent variables.Then find the sum total of all the positive coefficients in the model.Let it comes out to be 'X'. Finally enter your output as floor(X)\n",
    "\n",
    "Air quality data can be downloaded from https://drive.google.com/drive/folders/0B5ecohWfA0rueFZwUF9qbURXQU0\n",
    "\n",
    "**The floor function |x|, also called the greatest integer function or integer value gives the largest integer less than or equal to x*.\n",
    "\n",
    "Input Format\n",
    "\n",
    "Date: date on which observation was taken\n",
    "Time:time at which observation was taken\n",
    "O3: concentration of ozone gas\n",
    "CO: concentration of CO gas\n",
    "C6H6: concentration of benzene gas\n",
    "SO2: concentration of sulphur dioxide gas\n",
    "NO2: concentration of nitrogen dioxide gas\n",
    "NOx(GT): concentration of other oxides of nitrogen\n",
    "Pb: concentration of lead\n",
    "PM(2.5): other parameter\n",
    "PM(10): other parameter\n",
    "RH: relative humidity\n",
    "AH: actual humidity\n",
    "T : temperature\n",
    "Constraints\n",
    "\n",
    "Output should be an integer quantity.\n",
    "\n",
    "Output Format\n",
    "\n",
    "Out of all the variables if there are 2 variables A and B having positive coefficients 0.145 and 1.254 respectively\n",
    "\n",
    "Then X = 0.145+1.254 =1.399.\n",
    "\n",
    "So floor(X)=1.\n",
    "\n",
    "Hence Output is: 1'''"
   ]
  },
  {
   "cell_type": "code",
   "execution_count": 12,
   "metadata": {
    "collapsed": false
   },
   "outputs": [
    {
     "data": {
      "text/plain": [
       "2.129981327849201"
      ]
     },
     "execution_count": 12,
     "metadata": {},
     "output_type": "execute_result"
    }
   ],
   "source": [
    "import pandas as pd\n",
    "import numpy as np\n",
    "import matplotlib.pyplot as plot\n",
    "import sklearn\n",
    "\n",
    "df=pd.read_excel(\"C:\\\\Users\\\\hi\\\\Desktop\\\\Analiticity\\\\Round 2\\\\AirQuality.xlsx\")\n",
    "#df['Date']=pd.to_datetime(df['Date'])\n",
    "#df['Time']=pd.to_datetime(df['Time'])\n",
    "#df['Time1'] = df['Time'].astype(str).str[0:2].astype(int)\n",
    "#df['Time1']\n",
    "\n",
    "keys=['O3', 'CO', 'C6H6', 'SO2', 'NO2', 'NOx(GT)', 'Pb',\n",
    "       'PM(2.5)', 'PM(10)', 'RH', 'AH']\n",
    "from sklearn.cross_validation import train_test_split\n",
    "X_train, X_test, y_train, y_test = train_test_split(df[keys], df['T'], test_size=0.2, random_state=900)\n",
    "\n",
    "from sklearn import linear_model\n",
    "regr = linear_model.LinearRegression()\n",
    "regr.fit(X_train, y_train)\n",
    "regr.coef_[5]+regr.coef_[6]+regr.coef_[7]+regr.coef_[8]+regr.coef_[10]\n",
    "\n",
    "\n",
    "\n",
    "\n",
    "\n",
    "\n",
    "\n",
    "\n",
    "\n",
    "\n",
    "\n",
    "\n"
   ]
  }
 ],
 "metadata": {
  "anaconda-cloud": {},
  "kernelspec": {
   "display_name": "Python [conda root]",
   "language": "python",
   "name": "conda-root-py"
  },
  "language_info": {
   "codemirror_mode": {
    "name": "ipython",
    "version": 3
   },
   "file_extension": ".py",
   "mimetype": "text/x-python",
   "name": "python",
   "nbconvert_exporter": "python",
   "pygments_lexer": "ipython3",
   "version": "3.5.2"
  }
 },
 "nbformat": 4,
 "nbformat_minor": 1
}
