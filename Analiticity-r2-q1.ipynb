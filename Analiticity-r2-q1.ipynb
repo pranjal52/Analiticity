{
 "cells": [
  {
   "cell_type": "code",
   "execution_count": 12,
   "metadata": {
    "collapsed": false
   },
   "outputs": [
    {
     "data": {
      "text/plain": [
       "2.129981327849201"
      ]
     },
     "execution_count": 12,
     "metadata": {},
     "output_type": "execute_result"
    }
   ],
   "source": [
    "import pandas as pd\n",
    "import numpy as np\n",
    "import matplotlib.pyplot as plot\n",
    "import sklearn\n",
    "\n",
    "df=pd.read_excel(\"C:\\\\Users\\\\hi\\\\Desktop\\\\Analiticity\\\\Round 2\\\\AirQuality.xlsx\")\n",
    "#df['Date']=pd.to_datetime(df['Date'])\n",
    "#df['Time']=pd.to_datetime(df['Time'])\n",
    "#df['Time1'] = df['Time'].astype(str).str[0:2].astype(int)\n",
    "#df['Time1']\n",
    "\n",
    "keys=['O3', 'CO', 'C6H6', 'SO2', 'NO2', 'NOx(GT)', 'Pb',\n",
    "       'PM(2.5)', 'PM(10)', 'RH', 'AH']\n",
    "from sklearn.cross_validation import train_test_split\n",
    "X_train, X_test, y_train, y_test = train_test_split(df[keys], df['T'], test_size=0.2, random_state=900)\n",
    "\n",
    "from sklearn import linear_model\n",
    "regr = linear_model.LinearRegression()\n",
    "regr.fit(X_train, y_train)\n",
    "regr.coef_[5]+regr.coef_[6]+regr.coef_[7]+regr.coef_[8]+regr.coef_[10]\n",
    "\n",
    "\n",
    "\n",
    "\n",
    "\n",
    "\n",
    "\n",
    "\n",
    "\n",
    "\n",
    "\n",
    "\n"
   ]
  },
  {
   "cell_type": "code",
   "execution_count": null,
   "metadata": {
    "collapsed": true
   },
   "outputs": [],
   "source": [
    "keys=['O3', 'CO', 'C6H6', 'SO2', 'NO2', 'NOx(GT)', 'Pb',\n",
    "       'PM(2.5)', 'PM(10)', 'RH', 'AH', 'T']\n",
    "from sklearn.cross_validation import train_test_split\n",
    "X_train, X_test, y_train, y_test = train_test_split(df[keys], df['Gold mine'], test_size=0.2, random_state=900)\n",
    "\n",
    "from sklearn import linear_model\n",
    "regr = linear_model.LinearRegression()\n",
    "regr.fit(X_train, y_train)\n",
    "rmse=np.sqrt(np.sum((regr.predict(X_test) - y_test)**2))\n",
    "#rmse\n",
    "\n",
    "df_t=pd.read_excel(\"C:\\\\Users\\\\hi\\\\Desktop\\\\Analiticity\\\\Round 2\\\\test_Hunt4Gold.xlsx\")\n",
    "#rmse_t=np.sqrt(np.sum((regr.predict(df_t.drop('Sr. no', axis=1)) - df_t)**2))\n",
    "#rmse\n",
    "df_t['Gold mine']=regr.predict(df_t.drop('Sr.No', axis=1))\n",
    "df_t=df_t['Gold mine']\n",
    "#df_t['ones'].to_csv('out_one.csv', index=False)"
   ]
  }
 ],
 "metadata": {
  "kernelspec": {
   "display_name": "Python [conda root]",
   "language": "python",
   "name": "conda-root-py"
  },
  "language_info": {
   "codemirror_mode": {
    "name": "ipython",
    "version": 3
   },
   "file_extension": ".py",
   "mimetype": "text/x-python",
   "name": "python",
   "nbconvert_exporter": "python",
   "pygments_lexer": "ipython3",
   "version": "3.5.2"
  }
 },
 "nbformat": 4,
 "nbformat_minor": 1
}
